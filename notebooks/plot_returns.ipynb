{
 "cells": [
  {
   "cell_type": "code",
   "execution_count": 392,
   "id": "e093e918",
   "metadata": {},
   "outputs": [],
   "source": [
    "import numpy as np\n",
    "import pickle\n",
    "import matplotlib.pyplot as plt\n",
    "import matplotlib\n",
    "import json\n",
    "from pathlib import Path\n",
    "import seaborn as sns\n",
    "import pandas as pd\n",
    "from scipy.ndimage.filters import uniform_filter1d\n",
    "import sys\n",
    "sys.path.append('..')\n",
    "import neatplot\n",
    "neatplot.set_style()\n",
    "neatplot.update_rc('font.size', 20)\n",
    "matplotlib.rcParams['text.usetex'] = True\n",
    "%matplotlib inline"
   ]
  },
  {
   "cell_type": "code",
   "execution_count": 393,
   "id": "9655a2ea",
   "metadata": {},
   "outputs": [],
   "source": [
    "# sns.set_theme()"
   ]
  },
  {
   "cell_type": "code",
   "execution_count": 394,
   "id": "83aabede",
   "metadata": {},
   "outputs": [],
   "source": [
    "base_path = Path('../experiments')\n",
    "baseline_path = Path('../../bac-baselines/experiments')\n",
    "base_hucrl_path = Path('../../hucrl/exps/mujoco/experiments')\n",
    "process_seeds = True"
   ]
  },
  {
   "cell_type": "code",
   "execution_count": 395,
   "id": "a08e37fe",
   "metadata": {},
   "outputs": [],
   "source": [
    "env_name = 'Short Lava'"
   ]
  },
  {
   "cell_type": "code",
   "execution_count": 396,
   "id": "cdfcfc80",
   "metadata": {},
   "outputs": [],
   "source": [
    "pend_paths = {# 'BAC (seed 12)': 'random_init_12_2021-08-05/10-02-01/',\n",
    "         # 'BAC': 'pend_norm_tele_mg_3mc_2021-08-16/21-16-21',\n",
    "         #'Rollout BAC': 'rollout_bac_telenorm_multi_2021-08-17/22-44-48/',\n",
    "        'TIP': 'rollout_pendulum_2022-02-04/09-20-00/', \n",
    "        'BARL': 'bac_pendulum_2021-09-30/10-03-18/',\n",
    "         # 'RQMPC': 'random_pendulum_2021-09-30/13-06-45/',\n",
    "         'MPC': 'mbrl_pendulum_2021-09-30/12-16-37/',\n",
    "         r'$EIG_T$': 'us_pendulum_2021-10-02/17-05-00/',\n",
    "         'PETS': 'pets_pendulum_2021-09-26/12-05-56/',\n",
    "         'SAC': 'sac_pendulum_2021-09-30/12-44-00/',\n",
    "         'TD3': 'td3_pendulum_2021-10-01/11-50-44/',\n",
    "         'PPO': 'ppo_pendulum_2021-09-30/15-58-55',\n",
    "        # 'Rollout BARL': 'rollout_bac_pendulum_2022-01-24/10-23-32/',\n",
    "         'HUCRL (greedy)': 'hucrl_pendulum_greedy_2022-04-25/06-59-17/',\n",
    "         # 'HUCRL': 'hucrl_pendulum_2022-04-21/16-41-59/',\n",
    "         'HUCRL (TS)': 'hucrl_pendulum_thompson_2022-04-22/22-23-56/',\n",
    "        \n",
    "        }"
   ]
  },
  {
   "cell_type": "code",
   "execution_count": 397,
   "id": "9feaa541",
   "metadata": {},
   "outputs": [],
   "source": [
    "cartpole_paths = {\n",
    "         # 'BAC': 'cartpole_multistart_2021-08-20/12-52-46/',\n",
    "         'TIP': 'rollout_cartpole_2022-02-04/10-18-11/',\n",
    "         'BARL': 'bac_cartpole_2021-09-30/10-06-18/',\n",
    "         # 'RQMPC': 'random_cartpole_2021-09-30/14-41-06/',\n",
    "         'MPC': 'mbrl_cartpole_2021-09-30/14-23-08/',\n",
    "         r'$EIG_T$': 'us_cartpole_2021-10-02/18-03-05/',\n",
    "         # 'Rollout BAC': 'cartpole_multistart_rollout_bac_2021-08-19/17-59-03/',\n",
    "         'PETS': 'pets_cartpole_2021-09-26/12-17-26/',\n",
    "         # 'KGRL': 'kgrl_cartpole_3init_2021-12-29/15-04-25/',\n",
    "         'SAC': 'sac_cartpole_2021-09-30/12-46-23/',\n",
    "         'TD3': 'td3_cartpole_2021-10-01/11-59-14/',\n",
    "         'PPO': 'ppo_cartpole_2021-10-01/13-04-31/',\n",
    "         # 'Rollout BARL': 'fast_rollout_bac_cartpole_2022-01-23/12-06-50',\n",
    "         \n",
    "         # Open Loop BARL': 'cartpole_open_loop_fixed_2022-02-08/11-47-42/',\n",
    "         # 'BARL (New)': 'no_bayes_cartpole_barl_2022-03-27/12-45-16/',\n",
    "         # 'BARL (Bayes)': 'bayes_cartpole_barl_2022-03-27/13-57-28/',\n",
    "         'HUCRL': 'hucrl_cartpole_2022-04-16/20-12-24/',\n",
    "         'HUCRL (TS)': 'hucrl_cartpole_thompson_2022-04-17/11-13-29/',\n",
    "         'HUCRL (greedy)': 'hucrl_cartpole_expected_2022-04-17/11-14-21/',\n",
    "}"
   ]
  },
  {
   "cell_type": "code",
   "execution_count": 398,
   "id": "f2ac17cc",
   "metadata": {},
   "outputs": [],
   "source": [
    "lava_paths = {\n",
    "        # 'BAC': 'bac_lava_path_2021-09-09/10-57-31/',\n",
    "        'BARL': 'bac_lava_path_2021-09-25/11-47-59/',\n",
    "        # 'RQMPC': 'random_lava_path_2021-09-30/22-58-35/',\n",
    "        'MPC': 'mbrl_lava_path_2021-09-25/14-30-03/',\n",
    "        r'$EIG_T$': 'us_lava_path_2021-10-02/18-27-22/',\n",
    "        'PETS': 'pets_lava_path_2021-10-03/11-17-05/',\n",
    "        'SAC': 'sac_lava_path_2021-09-30/12-45-03/',\n",
    "        'TD3': 'td3_lava_path_2021-10-01/12-06-39/',\n",
    "        'PPO': 'ppo_lava_path_2021-10-01/17-35-57/',\n",
    "}"
   ]
  },
  {
   "cell_type": "code",
   "execution_count": 399,
   "id": "e638d593",
   "metadata": {},
   "outputs": [],
   "source": [
    "short_lava_paths = {\n",
    "        'oTIP': 'open_loop_bac_short_lava_2022-05-03/12-32-46/',\n",
    "        'oMPC': 'open_loop_mpc_short_lava_2022-05-03/12-38-24/',\n",
    "        r'$oEIG_T$': 'open_loop_us_short_lava_2022-05-03/12-40-19/',\n",
    "        'BO': \"bayes_opt_short_lava_2022-04-22/14-31-40/\",\n",
    "}"
   ]
  },
  {
   "cell_type": "code",
   "execution_count": 400,
   "id": "2901708e",
   "metadata": {},
   "outputs": [],
   "source": [
    "reacher_paths = {\n",
    "        # 'BAC (uniform)': 'bac_reacher_2021-09-01/17-14-04/',\n",
    "        # 'BAC (path sampling)': 'bac_reacher_rand_2021-09-01/17-14-02/',\n",
    "        \n",
    "        # 'BAC (ARD)': 'ard_reacher_bac_2021-09-18/14-59-33/',\n",
    "        # 'BAC (periodic ARD)':'reacher_periodic_bac_2021-09-18/15-26-28/',\n",
    "        # 'BAC (heavy path)': 'bac_reacher_heavy_paths_2021-09-27/09-48-01/',\n",
    "        # 'BAC (noisy heavy path)': 'bac_reacher_noisy_heavy_path_2021-09-29/13-21-31',\n",
    "        'TIP': 'rollout_reacher_2022-02-04/10-28-59/',\n",
    "        'BARL': 'bac_reacher_2021-09-29/10-38-12/',\n",
    "        # 'RQMPC': 'random_reacher_2021-10-01/16-03-06/',\n",
    "        'MPC': 'mbrl_reacher_2021-09-30/22-54-56/',\n",
    "        r'$EIG_T$': 'us_reacher_2021-10-03/12-01-24/',\n",
    "        'PETS': 'pets_reacher_2021-09-30/17-18-38/',\n",
    "        'SAC': 'sac_reacher_2021-09-30/17-29-38/',\n",
    "        'TD3': 'td3_reacher_2021-10-01/11-53-22/',\n",
    "        'PPO': 'ppo_reacher_2021-09-30/19-36-17/',\n",
    "        \n",
    "}"
   ]
  },
  {
   "cell_type": "code",
   "execution_count": 401,
   "id": "5f0bd83f",
   "metadata": {},
   "outputs": [],
   "source": [
    "beta_tracking_paths = {\n",
    "        'TIP': 'rollout_beta_tracking_2022-02-04/10-23-51/',\n",
    "        'BARL': 'bac_beta_tracking_2021-09-25/12-14-51/',\n",
    "        'MPC': 'mbrl_beta_tracking_2021-09-25/13-57-02/',\n",
    "        r'$EIG_T$': 'us_beta_tracking_2021-10-02/22-41-29/',\n",
    "        'PETS': 'pets_beta_tracking_2021-10-03/11-23-07/',\n",
    "        'SAC': 'sac_beta_tracking_2021-10-04/11-17-56/',\n",
    "        # 'TD3': 'td3_beta_tracking_2021-10-04/12-34-49/',\n",
    "        'PPO': 'ppo_beta_tracking_2021-10-04/13-17-42/',\n",
    "        'HUCRL (greedy)': 'hucrl_beta_tracking_greedy_2022-04-22/02-25-54/',\n",
    "        'HUCRL': 'hucrl_beta_tracking_2022-04-22/12-16-34/',\n",
    "        # 'TS': 'hucrl_beta_tracking_thompson_2022-04-21/16-43-04/',\n",
    "        \n",
    "}"
   ]
  },
  {
   "cell_type": "code",
   "execution_count": 402,
   "id": "c197e674",
   "metadata": {},
   "outputs": [],
   "source": [
    "weird_gain_paths = {\n",
    "    # 'BARL': 'weird_gain_barl_2022-02-12/23-15-12/',\n",
    "    # 'Open Loop BARL': 'weird_gain_open_loop_barl_2022-02-17/10-01-50/',\n",
    "    # 'Rollout BARL': 'weird_gain_rollout_barl_2022-02-12/23-15-16/',\n",
    "    # 'Start State BARL': 'weird_gain_ss_barl_2022-02-12/23-15-10/',\n",
    "    # 'SAS BARL': 'weird_gain_ss_barl3mc_sas_2022-02-22/08-55-27/',\n",
    "    # 'MBRL': 'weird_gain_mpc_2022-02-12/23-15-08/',\n",
    "    # r'$EIG_T$': 'weird_gain_us_2022-02-12/23-15-08/',\n",
    "    \n",
    "    # 'Bayesian Optimization': 'sklearn_opt_weird_gain_2022-02-16/22-55-50/',\n",
    "    # 'BARL (recent)': 'no_bayes_weird_gain_2022-03-27/11-41-53/',\n",
    "    # 'BARL (Bayes)': 'bayes_weird_gain_2022-03-27/12-23-23/',\n",
    "    \n",
    "    'oTIP': 'open_loop_bac_weird_gain_2022-05-03/12-13-26/',\n",
    "    'oMPC': 'open_loop_mpc_weird_gain_2022-05-03/12-20-04/',\n",
    "    r'$oEIG_T$': 'open_loop_us_weird_gain_2022-05-03/12-21-41/',\n",
    "    'BO': 'bayes_opt_weird_gain_2022-04-22/13-07-56/',\n",
    "}"
   ]
  },
  {
   "cell_type": "code",
   "execution_count": 403,
   "id": "e32674e1",
   "metadata": {},
   "outputs": [],
   "source": [
    "beta_tracking_fixed_paths = {\n",
    "    'BARL': \"bac_beta_tracking_fixed_2021-10-17/11-43-37/\",\n",
    "    'MPC': \"mpc_beta_tracking_fixed_2021-10-17/11-43-37/\",\n",
    "}"
   ]
  },
  {
   "cell_type": "code",
   "execution_count": 404,
   "id": "32536442",
   "metadata": {},
   "outputs": [],
   "source": [
    "plasma_tracking_paths = {\n",
    "        'Rollout BARL': 'rollout_barl_plasma_tracking_2022-02-21/16-58-08/',\n",
    "        'Rollout BARl (2)': 'rollout_barl_plasma_tracking_2022-03-22/09-51-58/',\n",
    "        'BARL': 'bac_plasma_tracking_2021-10-03/13-12-50/',\n",
    "        # 'BARL (new)': 'new_plasma_tracking_2021-10-11/13-31-22/',\n",
    "        # 'RQMPC': ''\n",
    "        'MPC': 'mbrl_plasma_tracking_2021-10-03/13-03-07/',\n",
    "        r'$EIG_T$': 'us_plasma_tracking_2021-10-04/07-41-47',\n",
    "        'PETS': 'pets_plasma_tracking_2021-10-01/15-53-40/',\n",
    "        'SAC': 'sac_plasma_tracking_2021-10-02/23-01-19/',\n",
    "        'TD3': 'td3_plasma_tracking_2021-10-03/01-05-24/',\n",
    "        'PPO': 'ppo_plasma_tracking_2021-10-03/02-13-23/',\n",
    "    \n",
    "        'Open Loop BARL': 'open_loop_barl_plasma_tracking_2022-02-21/17-04-09/',\n",
    "        'Bayes Opt': 'bayes_opt_plasma_tracking_2022-02-22/09-17-01/',\n",
    "}"
   ]
  },
  {
   "cell_type": "code",
   "execution_count": 405,
   "id": "b58c090c",
   "metadata": {},
   "outputs": [],
   "source": [
    "reacher_tight_paths = {\n",
    "        #'BAC (ARD)': 'bac_reacher_tight_ard_2021-09-21/10-06-46/',\n",
    "        #'Random (ARD)': 'random_reacher_tight_ard_2021-09-21/23-56-00/',\n",
    "        'BAC (path sampling)': 'bac_reacher_tight_paths_2021-09-25/10-58-57/',\n",
    "        'BAC (heavy hypers)': 'bac_reacher_tight_heavy_hypers_2021-09-25/10-58-04/',\n",
    "        'BAC (heavy path)': 'bac_reacher_tight_heavy_paths_2021-09-26/14-38-26/',\n",
    "        'PETS': 'pets_reacher_tight_2021-09-22/18-59-17/',\n",
    "        'PETS': ''\n",
    "        # 'SAC': 'sac_reacher_tight_2021-09-22/18-34-13/',\n",
    "        # 'TD3': 'td3_reacher_tight_2021-09-22/15-24-00/',\n",
    "        # 'PPO': 'ppo_reacher_tight_2021-09-22/15-25-08/',\n",
    "}"
   ]
  },
  {
   "cell_type": "code",
   "execution_count": 406,
   "id": "ecca772b",
   "metadata": {},
   "outputs": [],
   "source": [
    "swimmer_paths = {\n",
    "        'BAC (ARD)': 'bac_swimmer_ard_2021-09-17/15-13-29/',\n",
    "        'BAC (new)': 'bac_swimmer_new_2021-10-11/16-39-16/',\n",
    "    \n",
    "}"
   ]
  },
  {
   "cell_type": "code",
   "execution_count": 407,
   "id": "74e17621",
   "metadata": {},
   "outputs": [],
   "source": [
    "env_time_lengths ={\n",
    "     'Reacher': 50,\n",
    "     'Pendulum': 200,\n",
    "     'Cartpole': 25,\n",
    "     'Beta Tracking': 30,\n",
    "    }"
   ]
  },
  {
   "cell_type": "code",
   "execution_count": 466,
   "id": "52e955e6",
   "metadata": {},
   "outputs": [],
   "source": [
    "all_paths = {\"Cartpole\": cartpole_paths,\n",
    "             \"Pendulum\": pend_paths,\n",
    "             \"Reacher\": reacher_paths, \n",
    "             'Lava Path': lava_paths, \n",
    "             'Short Lava': short_lava_paths,\n",
    "             \"Reacher (tight)\": reacher_tight_paths,\n",
    "             \"Beta Tracking\": beta_tracking_paths,\n",
    "             \"Beta Tracking Fixed\": beta_tracking_fixed_paths,\n",
    "             'Swimmer': swimmer_paths,\n",
    "             'Plasma Tracking': plasma_tracking_paths,\n",
    "             'Weird Gain': weird_gain_paths,\n",
    "            }\n",
    "paths = all_paths[env_name]\n",
    "gt = {\"Pendulum\": -200,\n",
    "      \"Cartpole\": -12,\n",
    "      \"Reacher\": -5,\n",
    "      'Lava Path': -30,\n",
    "      'Short Lava': -7.75,\n",
    "      'Reacher (tight)': -8.78,\n",
    "      'Swimmer': 30,\n",
    "      'Beta Tracking': -2,\n",
    "      'Beta Tracking Fixed': -2.,# 'RQMPC': 'random_beta_tracking_2021-09-25/14-08-07/',\n",
    "      'Plasma Tracking': -5,\n",
    "      'Weird Gain': -110,\n",
    "     }\n",
    "ylim_bottom = {\n",
    "        \"Pendulum\": -1500,\n",
    "        \"Cartpole\": -25,\n",
    "        \"Reacher\": -20,\n",
    "        \"Lava Path\": -3000,\n",
    "        'Short Lava': -10,\n",
    "        \"Beta Tracking\": -12,\n",
    "        \"Plasma Tracking\": -40,\n",
    "        \"Swimmer\": -30,\n",
    "        \"Beta Tracking Fixed\": -20,\n",
    "        \"Weird Gain\": -200,\n",
    "}\n",
    "gt_val = gt[env_name]\n",
    "bottom_val = ylim_bottom[env_name]"
   ]
  },
  {
   "cell_type": "code",
   "execution_count": 467,
   "id": "b5a86878",
   "metadata": {},
   "outputs": [],
   "source": [
    "def process_bac(data):\n",
    "    returns = np.vstack(data['Eval Returns'])\n",
    "\n",
    "    data['Eval Mean Returns'] = returns.mean(axis=1)\n",
    "    data['Eval Std Returns'] = returns.std(axis=1)#  / np.sqrt(returns.shape[1])\n",
    "    return data\n",
    "\n",
    "\n",
    "def process_bac_seeds(path):\n",
    "    data = {}\n",
    "    returns = []\n",
    "    for i in range(5):\n",
    "        seed_path = path / f\"seed_{i}\" / \"info.pkl\"\n",
    "        if not seed_path.exists():\n",
    "            continue\n",
    "        with seed_path.open('rb') as f:\n",
    "            seed_data = pickle.load(f)\n",
    "        seed_returns = np.vstack(seed_data['Eval Returns'])\n",
    "        returns.append(seed_returns.mean(axis=1))\n",
    "        if i == 0:\n",
    "            data['Eval ndata'] = seed_data['Eval ndata']\n",
    "    max_return_length = max([len(ret) for ret in returns])\n",
    "    returns = [ret for ret in returns if len(ret) == max_return_length]\n",
    "    returns = np.vstack(returns)\n",
    "    n_trials = returns.shape[0]\n",
    "    print(n_trials)\n",
    "    data['Eval Mean Returns'] = returns.mean(axis=0)\n",
    "    data['Eval Std Returns'] = returns.std(axis=0) / np.sqrt(n_trials)\n",
    "    data['Eval Seed Returns'] = returns\n",
    "    return data\n",
    "            \n",
    "\n",
    "def process_baseline(data):\n",
    "    out = {}\n",
    "    out['Eval Mean Returns'] = data[\"evaluation/Returns Mean\"]\n",
    "    out['Eval ndata'] = data['exploration/num steps total']\n",
    "    out['Eval Std Returns'] = data['evaluation/Returns Std']\n",
    "    return out\n",
    "\n",
    "\n",
    "def process_baseline_seeds(path):\n",
    "    if (path / f\"seed_0\" / \"info.pkl\").exists():\n",
    "        return process_bac_seeds(path)\n",
    "    data = {}\n",
    "    returns = []\n",
    "    for i in range(5):\n",
    "        seed_path = path / f\"seed_{i}\" / \"progress.csv\"\n",
    "        if not seed_path.exists():\n",
    "            continue\n",
    "        data_res = pd.read_csv(seed_path)\n",
    "        returns.append(data_res[\"evaluation/Returns Mean\"])\n",
    "        if i == 0:\n",
    "            data['Eval ndata'] = data_res['exploration/num steps total']\n",
    "    max_return_length = max([len(ret) for ret in returns])\n",
    "    returns = [ret for ret in returns if len(ret) == max_return_length]\n",
    "    if len(returns) == 0:\n",
    "        return {}\n",
    "    returns = np.vstack(returns)\n",
    "    \n",
    "    data['Eval Mean Returns'] = returns.mean(axis=0)\n",
    "    data['Eval Std Returns'] = returns.std(axis=0) / np.sqrt(returns.shape[0])\n",
    "    data['Eval Seed Returns'] = returns\n",
    "    return data"
   ]
  },
  {
   "cell_type": "code",
   "execution_count": 468,
   "id": "af41a274",
   "metadata": {
    "scrolled": true
   },
   "outputs": [],
   "source": [
    "def process_statistics(data):\n",
    "    eval_return_list = []\n",
    "    for dat in data:\n",
    "        if 'eval_return' in dat:\n",
    "            eval_return_list.append(dat['eval_return'])\n",
    "    return np.array(eval_return_list).reshape((-1, 5))\n",
    "\n",
    "def process_hucrl(path):\n",
    "    # assumes path includes statistics.json\n",
    "    with path.open('r') as f:\n",
    "        data = json.load(f)\n",
    "    # we have hucrl set for 5 trials at a time\n",
    "    returns = process_statistics(data)\n",
    "    out_data = {}\n",
    "    out_data['Eval ndata'] = (np.arange(returns.shape[0]) + 1) * env_time_lengths[env_name]\n",
    "    out_data['Eval Mean Returns'] = returns.mean(axis=1)\n",
    "    out_data['Eval Std Returns'] = returns.std(axis=1) / np.sqrt(returns.shape[1])\n",
    "    return out_data   \n",
    "\n",
    "def process_hucrl_seeds(path):\n",
    "    data = {}\n",
    "    returns = []\n",
    "    for i in range(5):\n",
    "        seed_path = path / f\"seed_{i}\" / \"statistics.json\"\n",
    "        if not seed_path.exists():\n",
    "            continue\n",
    "        with seed_path.open('r') as f:\n",
    "            seed_data = json.load(f)\n",
    "        seed_returns = process_statistics(seed_data)\n",
    "        returns.append(seed_returns.mean(axis=1))\n",
    "        if i == 0:\n",
    "            data['Eval ndata'] = (np.arange(seed_returns.shape[0]) + 1) * env_time_lengths[env_name]\n",
    "    max_return_length = max([len(ret) for ret in returns])\n",
    "    returns = [ret for ret in returns if len(ret) == max_return_length]\n",
    "    returns = np.vstack(returns)\n",
    "    n_trials = returns.shape[0]\n",
    "    print(n_trials)\n",
    "    data['Eval Mean Returns'] = returns.mean(axis=0)\n",
    "    data['Eval Std Returns'] = returns.std(axis=0) / np.sqrt(n_trials)\n",
    "    data['Eval Seed Returns'] = returns\n",
    "    return data"
   ]
  },
  {
   "cell_type": "code",
   "execution_count": 469,
   "id": "bfba23d1",
   "metadata": {
    "scrolled": true
   },
   "outputs": [
    {
     "name": "stdout",
     "output_type": "stream",
     "text": [
      "oTIP\n",
      "5\n",
      "found seed data for oTIP\n",
      "oMPC\n",
      "5\n",
      "found seed data for oMPC\n",
      "$oEIG_T$\n",
      "5\n",
      "found seed data for $oEIG_T$\n",
      "BO\n",
      "5\n",
      "found seed data for BO\n"
     ]
    }
   ],
   "source": [
    "data = {}\n",
    "for key, path in paths.items():\n",
    "    print(key)\n",
    "    info_path = base_path / path / 'info.pkl'\n",
    "    if info_path.exists():\n",
    "        with info_path.open('rb') as f:\n",
    "            data[key] = process_bac(pickle.load(f))\n",
    "        continue\n",
    "    info_seed_path = base_path / path / 'seed_0'\n",
    "    if info_seed_path.exists():\n",
    "        if process_seeds:\n",
    "            data[key] = process_bac_seeds(base_path / path)\n",
    "        else:\n",
    "            info_path = info_seed_path / 'info.pkl'\n",
    "            with info_path.open('rb') as f:\n",
    "                data[key] = process_bac(pickle.load(f))\n",
    "        print(f'found seed data for {key}')\n",
    "        continue\n",
    "    baseline_exp_path = baseline_path / path / 'progress.csv'\n",
    "    if baseline_exp_path.exists():\n",
    "        data_res = pd.read_csv(baseline_exp_path)\n",
    "        reformatted_data = process_baseline(data_res)\n",
    "        data[key] = reformatted_data\n",
    "        continue\n",
    "    baseline_pkl_path = baseline_path / path / 'info.pkl'\n",
    "    if baseline_pkl_path.exists():\n",
    "        with baseline_pkl_path.open('rb') as f:\n",
    "            data[key] = process_bac(pickle.load(f))\n",
    "        continue\n",
    "    baseline_seed_path = baseline_path / path /'seed_0'\n",
    "    if baseline_seed_path.exists():\n",
    "        if process_seeds:\n",
    "            val = process_baseline_seeds(baseline_path / path)\n",
    "            if len(val) == 0:\n",
    "                continue\n",
    "            data[key] = val\n",
    "        else:\n",
    "            data[key] = process_baseline(baseline_seed_path)\n",
    "        print(f\"found seed data for {key}\")\n",
    "        continue\n",
    "    hucrl_path = base_hucrl_path / path / 'statistics.json'\n",
    "    if hucrl_path.exists():\n",
    "        data[key] = process_hucrl(hucrl_path)\n",
    "        continue\n",
    "    hucrl_seed_path = base_hucrl_path / path / 'seed_0'\n",
    "    if hucrl_seed_path.exists():\n",
    "        if process_seeds:\n",
    "            val = process_hucrl_seeds(base_hucrl_path / path)\n",
    "            if len(val) == 0:\n",
    "                continue\n",
    "            data[key] = val\n",
    "        else:\n",
    "            data[key] = process_hucrl(hucrl_seed_path)\n",
    "        print(f\"found seed data for {key}\")\n",
    "        continue\n",
    "    print(f\"Data for {key} not found!\")"
   ]
  },
  {
   "cell_type": "code",
   "execution_count": 470,
   "id": "695356a0",
   "metadata": {},
   "outputs": [],
   "source": [
    "smooth_curves = True"
   ]
  },
  {
   "cell_type": "code",
   "execution_count": 471,
   "id": "9394a3d9",
   "metadata": {},
   "outputs": [],
   "source": [
    "def smooth_data(data, window=5):\n",
    "    data['Eval Mean Returns'] = uniform_filter1d(data['Eval Mean Returns'], size=window)\n",
    "    data['Eval Std Returns'] = uniform_filter1d(data['Eval Std Returns'], size=window)\n",
    "    return data"
   ]
  },
  {
   "cell_type": "code",
   "execution_count": 472,
   "id": "4c70aef1",
   "metadata": {},
   "outputs": [],
   "source": [
    "if smooth_curves:\n",
    "    new_data = {}\n",
    "    for k, v in data.items():\n",
    "        new_data[k] = smooth_data(v)\n",
    "    data = new_data"
   ]
  },
  {
   "cell_type": "code",
   "execution_count": 473,
   "id": "5dde48c7",
   "metadata": {
    "scrolled": true
   },
   "outputs": [
    {
     "data": {
      "text/plain": [
       "Text(0.5, 0.98, 'Control Performance on Short Lava')"
      ]
     },
     "execution_count": 473,
     "metadata": {},
     "output_type": "execute_result"
    },
    {
     "data": {
      "image/png": "[encoded data removed]",
      "text/plain": [
       "<Figure size 1296x540 with 4 Axes>"
      ]
     },
     "metadata": {
      "needs_background": "light"
     },
     "output_type": "display_data"
    }
   ],
   "source": [
    "fig, [ax1, ax2, ax3, ax4] = plt.subplots(1, 4, figsize=(18, 7.5))\n",
    "for i, (key, vals) in enumerate(data.items()):\n",
    "    rmean = vals[\"Eval Mean Returns\"]\n",
    "    rstderr = vals[\"Eval Std Returns\"]\n",
    "    ndata = vals['Eval ndata']\n",
    "    ax1.plot(ndata, rmean, label=key, zorder=100 - i)\n",
    "    ax1.fill_between(ndata, rmean - rstderr, rmean + rstderr, alpha=0.5)\n",
    "    if 'Model MSE' in vals:\n",
    "        mses = vals['Model MSE']\n",
    "        ax2.plot(ndata, mses, label=key)\n",
    "    elif 'Model MSE (current MPC)' in vals:\n",
    "        mses = vals['Model MSE (current MPC)']\n",
    "        ax2.plot(ndata, mses, label=key)\n",
    "    if 'Model MSE (random test set)' in vals:\n",
    "        mses = vals['Model MSE (random test set)']\n",
    "        ax3.plot(ndata, mses, label=key)\n",
    "    if 'Acquisition Function Value' in vals:\n",
    "        acqs = vals['Acquisition Function Value']\n",
    "        ax4.plot(acqs, label=key)\n",
    "    else:\n",
    "        ax4.plot([], label=key)\n",
    "\n",
    "        \n",
    "ax1.set_xlabel('Number of Queries')\n",
    "ax1.set_ylabel('Returns')\n",
    "ax1.axhline(gt_val, color='black', linestyle='--', label=r'$\\pi_T$')\n",
    "ax1.legend()\n",
    "ax2.set_xlabel('Number of Queries')\n",
    "ax2.set_ylabel('Model MSE on Current MPC')\n",
    "ax3.set_ylabel(\"MSE on Random Set\")\n",
    "ax3.set_xlabel('Number of Queries')\n",
    "ax4.set_xlabel('Number of Queries')\n",
    "ax4.set_ylabel('EIG')\n",
    "if env_name == 'Lava Path':\n",
    "    ax1.set_ylim(-1000, 0)\n",
    "ax2.set_yscale('log')\n",
    "ax3.set_yscale('log')\n",
    "ax4.set_ylim(0, 10)\n",
    "# ax1.set_xscale('log')\n",
    "\n",
    "fig.suptitle(f\"Control Performance on {env_name}\")\n"
   ]
  },
  {
   "cell_type": "code",
   "execution_count": 474,
   "id": "42e9d517",
   "metadata": {
    "scrolled": true
   },
   "outputs": [
    {
     "data": {
      "image/png": "[encoded data removed]",
      "text/plain": [
       "<Figure size 864x648 with 1 Axes>"
      ]
     },
     "metadata": {
      "needs_background": "light"
     },
     "output_type": "display_data"
    }
   ],
   "source": [
    "fig, ax = plt.subplots(figsize=(12, 9))\n",
    "for i, (key, vals) in enumerate(data.items()):\n",
    "    rmean = vals[\"Eval Mean Returns\"]\n",
    "    rstderr = vals[\"Eval Std Returns\"]\n",
    "    ndata = vals['Eval ndata']\n",
    "    ax.plot(ndata, rmean, label=key, zorder=100 - i)\n",
    "    ax.fill_between(ndata, rmean - rstderr, rmean + rstderr, alpha=0.3)\n",
    "ax.set_xlabel('Environment Steps')\n",
    "ax.set_ylabel('Returns')\n",
    "ax.axhline(gt_val, color='black', linestyle='--', label=r'$\\pi_T$')\n",
    "ax.legend()\n",
    "ylim_top = (gt_val - bottom_val) * 0.25 + gt_val\n",
    "ax.set_ylim(bottom_val, ylim_top)\n",
    "ax.set_xscale('log')\n",
    "# ax.set_yscale('log')\n",
    "# ax.set_xlim(0, 500)\n",
    "# ax.set_ylim(-10000, 0)\n",
    "\n",
    "title = f\"Control Performance on {env_name}\"\n",
    "ax.set_title(label=title, fontdict={'fontsize': 14})\n",
    "# fig.suptitle()\n",
    "plt.savefig(f'sample_complexity_{env_name}.pdf') #, bbox_inches='tight')"
   ]
  },
  {
   "cell_type": "code",
   "execution_count": 475,
   "id": "57952dc0",
   "metadata": {
    "scrolled": true
   },
   "outputs": [
    {
     "data": {
      "image/png": "[encoded data removed]",
      "text/plain": [
       "<Figure size 864x648 with 1 Axes>"
      ]
     },
     "metadata": {
      "needs_background": "light"
     },
     "output_type": "display_data"
    }
   ],
   "source": [
    "fig, ax = plt.subplots(figsize=(12, 9))\n",
    "for i, (key, vals) in enumerate(data.items()):\n",
    "    rmean = vals[\"Eval Mean Returns\"]\n",
    "    rstderr = vals[\"Eval Std Returns\"]\n",
    "    ndata = vals['Eval ndata']\n",
    "    ax.plot(ndata, rmean, label=key, zorder=100 - i)\n",
    "    ax.fill_between(ndata, rmean - rstderr, rmean + rstderr, alpha=0.3)\n",
    "ax.set_xlabel('Environment Steps')\n",
    "ax.set_ylabel('Returns')\n",
    "ax.axhline(gt_val, color='black', linestyle='--', label=r'$\\pi_T$')\n",
    "# ax.legend()\n",
    "ylim_top = (gt_val - bottom_val) * 0.25 + gt_val\n",
    "ax.set_ylim(bottom_val, ylim_top)\n",
    "# ax.set_xscale('log')\n",
    "# ax.set_yscale('log')\n",
    "# ax.set_xlim(0, 500)\n",
    "# ax.set_ylim(-10000, 0)\n",
    "box = ax.get_position()\n",
    "ax.set_position([box.x0, box.y0, box.width * 0.6, box.height])\n",
    "\n",
    "# Put a legend to the right of the current axis\n",
    "ax.legend(loc='center left', bbox_to_anchor=(1, 0.5), ncol=2, fancybox=True)\n",
    "\n",
    "title = f\"Control Performance on {env_name}\"\n",
    "ax.set_title(label=title, fontdict={'fontsize': 14})\n",
    "# fig.suptitle()\n",
    "plt.savefig(f'legend_{env_name}.pdf') #, bbox_inches='tight')"
   ]
  },
  {
   "cell_type": "code",
   "execution_count": 476,
   "id": "99f5b057",
   "metadata": {
    "scrolled": true
   },
   "outputs": [
    {
     "name": "stdout",
     "output_type": "stream",
     "text": [
      "Sample complexity of algorithms on Short Lava\n",
      "oTIP: [1.0, 21.0, 41.0, 101.0, inf]\n",
      "oMPC: [21.0, 41.0, 101.0, inf, inf]\n",
      "$oEIG_T$: [21.0, 81.0, 101.0, inf, inf]\n",
      "BO: [inf, inf, inf, inf, inf]\n"
     ]
    }
   ],
   "source": [
    "print(f\"Sample complexity of algorithms on {env_name}\")\n",
    "for key, vals in data.items():\n",
    "    if 'Eval Seed Returns' in vals:\n",
    "        samps = []\n",
    "        for row in vals['Eval Seed Returns']:\n",
    "            try:\n",
    "                sample_idx = np.where(row > gt_val)[0].min()\n",
    "                samps.append(vals['Eval ndata'][sample_idx])\n",
    "            except ValueError:\n",
    "                samps.append(np.inf)\n",
    "        print(f\"{key}: {sorted(samps)}\")\n",
    "        continue\n",
    "    rmean = vals[\"Eval Mean Returns\"]\n",
    "    try:\n",
    "        sample_idx = np.where(rmean > gt_val)[0].min()\n",
    "        sample_complexity = vals['Eval ndata'][sample_idx]\n",
    "    except ValueError:\n",
    "        sample_complexity = None\n",
    "    \n",
    "    print(f\"{key}: {sample_complexity}\")"
   ]
  },
  {
   "cell_type": "code",
   "execution_count": 477,
   "id": "09256318",
   "metadata": {},
   "outputs": [
    {
     "data": {
      "text/plain": [
       "Text(0.5, 1.0, 'Control Performance on Short Lava')"
      ]
     },
     "execution_count": 477,
     "metadata": {},
     "output_type": "execute_result"
    },
    {
     "data": {
      "image/png": "[encoded data removed]",
      "text/plain": [
       "<Figure size 864x648 with 1 Axes>"
      ]
     },
     "metadata": {
      "needs_background": "light"
     },
     "output_type": "display_data"
    }
   ],
   "source": [
    "fig, ax = plt.subplots(figsize=(12, 9))\n",
    "for i, (key, vals) in enumerate(data.items()):\n",
    "    rmean = gt_val - vals[\"Eval Mean Returns\"]\n",
    "    rstderr = vals[\"Eval Std Returns\"]\n",
    "    ndata = vals['Eval ndata']\n",
    "    ax.plot(ndata, rmean, label=key, zorder=100 - i)\n",
    "    ax.fill_between(ndata, rmean - rstderr, rmean + rstderr, alpha=0.3)\n",
    "ax.set_xlabel('Environment Steps')\n",
    "ax.set_ylabel('Simple Regret')\n",
    "# ax.axhline(gt_val, color='black', linestyle='--', label=r'$\\pi_T$')\n",
    "# ax.legend()\n",
    "ylim_top = (gt_val - bottom_val) * 0.25 + gt_val\n",
    "# ax.set_ylim(bottom_val + gt_val, (gt_val - bottom_val) * 0.25)\n",
    "ax.set_xscale('log')\n",
    "# ax.set_yscale('log')\n",
    "# ax.set_xlim(0, 200)\n",
    "# ax.set_ylim(-10000, 0)\n",
    "box = ax.get_position()\n",
    "ax.set_position([box.x0, box.y0, box.width * 0.6, box.height])\n",
    "\n",
    "# Put a legend to the right of the current axis\n",
    "ax.legend(loc='center left', bbox_to_anchor=(1, 0.5), ncol=2, fancybox=True)\n",
    "\n",
    "title = f\"Control Performance on {env_name}\"\n",
    "ax.set_title(label=title, fontdict={'fontsize': 14})\n",
    "\n"
   ]
  },
  {
   "cell_type": "code",
   "execution_count": 478,
   "id": "516225d1",
   "metadata": {},
   "outputs": [
    {
     "data": {
      "text/plain": [
       "Text(0.5, 1.0, 'Control Performance on Short Lava')"
      ]
     },
     "execution_count": 478,
     "metadata": {},
     "output_type": "execute_result"
    },
    {
     "data": {
      "image/png": "[encoded data removed]",
      "text/plain": [
       "<Figure size 864x648 with 1 Axes>"
      ]
     },
     "metadata": {
      "needs_background": "light"
     },
     "output_type": "display_data"
    }
   ],
   "source": [
    "fig, ax = plt.subplots(figsize=(12, 9))\n",
    "for i, (key, vals) in enumerate(data.items()):\n",
    "    rmean = gt_val - vals[\"Eval Mean Returns\"]\n",
    "    rstderr = vals[\"Eval Std Returns\"]\n",
    "    ndata = vals['Eval ndata']\n",
    "    cum_mean = np.cumsum(rmean) / np.arange(1, len(rmean) + 1)\n",
    "    cum_stderr = np.sqrt(np.cumsum(np.square(rstderr))) / np.arange(1, len(rmean) + 1)\n",
    "    ax.plot(ndata, cum_mean, label=key, zorder=100 - i)\n",
    "    ax.fill_between(ndata, cum_mean - cum_stderr, cum_mean + cum_stderr, alpha=0.3)\n",
    "ax.set_xlabel('Environment Steps')\n",
    "ax.set_ylabel('Average Regret')\n",
    "# ax.axhline(gt_val, color='black', linestyle='--', label=r'$\\pi_T$')\n",
    "# ax.legend()\n",
    "# ylim_top = (gt_val - bottom_val) * 0.25 + gt_val\n",
    "# ax.set_ylim(bottom_val + gt_val, (gt_val - bottom_val) * 0.25)\n",
    "ax.set_xscale('log')\n",
    "# ax.set_yscale('log')\n",
    "# ax.set_xlim(0, 200)\n",
    "\n",
    "box = ax.get_position()\n",
    "ax.set_position([box.x0, box.y0, box.width * 0.6, box.height])\n",
    "\n",
    "# Put a legend to the right of the current axis\n",
    "ax.legend(loc='center left', bbox_to_anchor=(1, 0.5), ncol=2, fancybox=True)\n",
    "\n",
    "title = f\"Control Performance on {env_name}\"\n",
    "ax.set_title(label=title, fontdict={'fontsize': 14})\n",
    "\n"
   ]
  },
  {
   "cell_type": "code",
   "execution_count": null,
   "id": "a7587046",
   "metadata": {},
   "outputs": [],
   "source": []
  },
  {
   "cell_type": "code",
   "execution_count": null,
   "id": "aac2d3b6",
   "metadata": {},
   "outputs": [],
   "source": []
  },
  {
   "cell_type": "code",
   "execution_count": null,
   "id": "d0eb4dd2",
   "metadata": {},
   "outputs": [],
   "source": []
  },
  {
   "cell_type": "code",
   "execution_count": null,
   "id": "6a4b86c1",
   "metadata": {},
   "outputs": [],
   "source": []
  },
  {
   "cell_type": "code",
   "execution_count": null,
   "id": "c9be3147",
   "metadata": {},
   "outputs": [],
   "source": []
  },
  {
   "cell_type": "code",
   "execution_count": null,
   "id": "5ad76e73",
   "metadata": {},
   "outputs": [],
   "source": []
  }
 ],
 "metadata": {
  "kernelspec": {
   "display_name": "barl",
   "language": "python",
   "name": "barl"
  },
  "language_info": {
   "codemirror_mode": {
    "name": "ipython",
    "version": 3
   },
   "file_extension": ".py",
   "mimetype": "text/x-python",
   "name": "python",
   "nbconvert_exporter": "python",
   "pygments_lexer": "ipython3",
   "version": "3.9.6"
  }
 },
 "nbformat": 4,
 "nbformat_minor": 5
}
