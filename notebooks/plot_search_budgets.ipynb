{
 "cells": [
  {
   "cell_type": "code",
   "execution_count": 44,
   "id": "e093e918",
   "metadata": {},
   "outputs": [
    {
     "name": "stderr",
     "output_type": "stream",
     "text": [
      "/var/folders/09/x1mcx80n2n1bk_pfwk4mx1dw0000gn/T/ipykernel_5160/3237196657.py:9: DeprecationWarning: Please use `uniform_filter1d` from the `scipy.ndimage` namespace, the `scipy.ndimage.filters` namespace is deprecated.\n",
      "  from scipy.ndimage.filters import uniform_filter1d\n"
     ]
    }
   ],
   "source": [
    "import numpy as np\n",
    "import pickle\n",
    "import matplotlib.pyplot as plt\n",
    "import matplotlib\n",
    "from pathlib import Path\n",
    "import seaborn as sns\n",
    "import pandas as pd\n",
    "import sys\n",
    "from scipy.ndimage.filters import uniform_filter1d\n",
    "sys.path.append('..')\n",
    "import neatplot\n",
    "neatplot.set_style()\n",
    "neatplot.update_rc('font.size', 20)\n",
    "matplotlib.rcParams['text.usetex'] = True\n",
    "%matplotlib inline"
   ]
  },
  {
   "cell_type": "code",
   "execution_count": 45,
   "id": "9655a2ea",
   "metadata": {},
   "outputs": [],
   "source": [
    "# sns.set_theme()"
   ]
  },
  {
   "cell_type": "code",
   "execution_count": 46,
   "id": "83aabede",
   "metadata": {},
   "outputs": [],
   "source": [
    "base_path = Path('../experiments')\n",
    "baseline_path = Path('../../bac-baselines/experiments')\n",
    "process_seeds = True"
   ]
  },
  {
   "cell_type": "code",
   "execution_count": 47,
   "id": "a08e37fe",
   "metadata": {},
   "outputs": [],
   "source": [
    "env_name = r'$\\beta$ + Rotation'"
   ]
  },
  {
   "cell_type": "code",
   "execution_count": 48,
   "id": "6f6a8c8c",
   "metadata": {},
   "outputs": [],
   "source": [
    "beta_tracking_paths = {\n",
    "    'TIP-10': 'rollout_beta_tracking_ph10_2022-04-18/19-20-54/',\n",
    "    'TIP-2': 'rollout_beta_tracking_ph2_2022-04-17/11-49-30/seed_0/',\n",
    "    'TIP-8': 'rollout_beta_tracking_ph8_2022-04-18/16-04-14/',\n",
    "    'TIP-6': 'rollout_beta_tracking_ph6_2022-04-18/12-48-14/',\n",
    "    'TIP-4': 'rollout_beta_tracking_ph4_2022-04-18/09-41-32/',\n",
    "    # 'rollout barl 10000': 'rollout_barl_bt_10000_2022-03-25/15-46-28/',\n",
    "}"
   ]
  },
  {
   "cell_type": "code",
   "execution_count": 49,
   "id": "32536442",
   "metadata": {},
   "outputs": [],
   "source": [
    "plasma_tracking_paths_barl = {\n",
    "        200: 'barl_pt_200_2022-04-07/10-07-17/',\n",
    "        800: 'barl_pt_800_2022-04-07/16-58-46/',\n",
    "        3200: 'barl_pt_3200_2022-04-08/00-38-21/',\n",
    "        10000: 'barl_pt_10000_2022-04-08/00-41-11/',\n",
    "}\n",
    "plasma_tracking_paths_rollout_barl ={\n",
    "        200: 'rollout_barl_pt_200_2022-03-20/22-49-51/',\n",
    "        \n",
    "}\n",
    "plasma_tracking_paths = {'Pointwise': plasma_tracking_paths_barl,\n",
    "                         'Rollout': plasma_tracking_paths_rollout_barl}\n",
    "plasma_tracking_paths = {\n",
    "        'barl 200': 'barl_pt_200_2022-04-07/10-07-17/',\n",
    "        'barl 800': 'barl_pt_800_2022-04-07/16-58-46/',\n",
    "        'barl 3200': 'barl_pt_3200_2022-04-13/09-55-48/',\n",
    "        'barl 10k': 'barl_pt_10000_2022-04-13/20-39-06/',\n",
    "        # 'barl 3200': 'barl_pt_3200_2022-04-08/00-38-21/',\n",
    "        # 'barl 10000 (2)': 'barl_bt_10k_2022-03-20/21-35-18/',\n",
    "        # 'barl 10000': 'barl_pt_10000_2022-04-08/00-41-11/',\n",
    "        # 'rollout barl 200': 'rollout_barl_pt_200_2022-03-20/22-49-51/',\n",
    "        # 'rollout barl 800': 'rollout_barl_pt_800_2022-03-22/09-13-42/',\n",
    "        # 'rollout barl 10000': 'rollout_barl_pt_10000_2022-03-22/09-13-59/',\n",
    "        'Rollout BARL': 'rollout_barl_plasma_tracking_2022-02-21/16-58-08/',\n",
    "        'Rollout BARl (2)': 'rollout_barl_plasma_tracking_2022-03-22/09-51-58/',\n",
    "        'TIP-2': 'rollout_plasma_tracking_ph2_2022-04-17/11-55-35/',\n",
    "        'TIP-4': 'rollout_plasma_tracking_ph4_2022-04-18/09-38-00/'\n",
    "}\n"
   ]
  },
  {
   "cell_type": "code",
   "execution_count": 50,
   "id": "f27502e2",
   "metadata": {},
   "outputs": [],
   "source": [
    "beta_rotation_paths = {\n",
    "    'TIP-2': 'tip_beta_rotation_tracking_ph2_2022-05-17/19-16-06/',\n",
    "    'TIP-4': 'tip_beta_rotation_tracking_ph4_2022-05-17/19-16-07/',\n",
    "    'TIP-8': 'tip_beta_rotation_tracking_ph8_2022-05-17/19-17-01/',\n",
    "    'TIP-10': 'tip_beta_rotation_tracking_ph10_2022-05-17/19-12-45/',\n",
    "    'TIP-16': 'tip_beta_rotation_tracking_ph16_2022-05-17/19-16-16/',\n",
    "}"
   ]
  },
  {
   "cell_type": "code",
   "execution_count": 51,
   "id": "8c5d87e8",
   "metadata": {},
   "outputs": [],
   "source": [
    "cartpole_paths = {\n",
    "        'Horizon 1': 'rollout_cartpole_ph1_2022-04-01/15-30-45/',\n",
    "        'Horizon 2': 'rollout_cartpole_ph2_2022-04-01/19-57-38/',\n",
    "        'Horizon 4': 'rollout_cartpole_ph4_2022-04-02/00-25-47/',\n",
    "        'Horizon 8': 'rollout_cartpole_ph8_2022-04-02/04-49-55/',\n",
    "        'Horizon 16': 'rollout_cartpole_ph16_2022-04-02/09-19-27/',\n",
    "}"
   ]
  },
  {
   "cell_type": "code",
   "execution_count": 52,
   "id": "52e955e6",
   "metadata": {},
   "outputs": [],
   "source": [
    "all_paths = {\"Cartpole\": cartpole_paths,\n",
    "             # \"Pendulum\": pend_paths,\n",
    "             # \"Reacher\": reacher_paths, \n",
    "             # 'Lava Path': lava_paths, \n",
    "             # \"Reacher (tight)\": reacher_tight_paths,\n",
    "             \"Beta Tracking\": beta_tracking_paths,\n",
    "             # \"Beta Tracking Fixed\": beta_tracking_fixed_paths,\n",
    "             # 'Swimmer': swimmer_paths,\n",
    "             'Plasma Tracking': plasma_tracking_paths,\n",
    "             r'$\\beta$ + Rotation': beta_rotation_paths,\n",
    "             # 'Weird Gain': weird_gain_paths,\n",
    "            }\n",
    "paths = all_paths[env_name]\n",
    "gt = {\"Pendulum\": -200,\n",
    "      \"Cartpole\": -13,\n",
    "      \"Reacher\": -5,\n",
    "      'Lava Path': -30,\n",
    "      'Reacher (tight)': -8.78,\n",
    "      'Swimmer': 30,\n",
    "      'Beta Tracking': -2.5,\n",
    "      'Beta Tracking Fixed': -2.,\n",
    "      'Plasma Tracking': -5,\n",
    "      'Weird Gain': -110,\n",
    "      r'$\\beta$ + Rotation': -2,\n",
    "     }\n",
    "ylim_bottom = {\n",
    "        \"Pendulum\": -1500,\n",
    "        \"Cartpole\": -25,\n",
    "        \"Reacher\": -20,\n",
    "        \"Lava Path\": -3000,\n",
    "        \"Beta Tracking\": -12,\n",
    "        \"Plasma Tracking\": -40,\n",
    "        \"Swimmer\": -30,\n",
    "        \"Beta Tracking Fixed\": -20,\n",
    "        \"Weird Gain\": -200,\n",
    "        \n",
    "        r'$\\beta$ + Rotation': -20,\n",
    "}\n",
    "gt_val = gt[env_name]\n",
    "bottom_val = ylim_bottom[env_name]"
   ]
  },
  {
   "cell_type": "code",
   "execution_count": 53,
   "id": "b5a86878",
   "metadata": {},
   "outputs": [],
   "source": [
    "def process_bac(data):\n",
    "    returns = np.vstack(data['Eval Returns'])\n",
    "\n",
    "    data['Eval Mean Returns'] = returns.mean(axis=1)\n",
    "    data['Eval Std Returns'] = returns.std(axis=1)#  / np.sqrt(returns.shape[1])\n",
    "    return data\n",
    "\n",
    "\n",
    "def process_bac_seeds(path):\n",
    "    data = {}\n",
    "    returns = []\n",
    "    for i in range(5):\n",
    "        seed_path = path / f\"seed_{i}\" / \"info.pkl\"\n",
    "        if not seed_path.exists():\n",
    "            continue\n",
    "        with seed_path.open('rb') as f:\n",
    "            seed_data = pickle.load(f)\n",
    "        seed_returns = np.vstack(seed_data['Eval Returns'])\n",
    "        returns.append(seed_returns.mean(axis=1))\n",
    "        if i == 0:\n",
    "            data['Eval ndata'] = seed_data['Eval ndata']\n",
    "    max_return_length = max([len(ret) for ret in returns])\n",
    "    returns = [ret for ret in returns if len(ret) == max_return_length]\n",
    "    returns = np.vstack(returns)\n",
    "    n_trials = returns.shape[0]\n",
    "    print(n_trials)\n",
    "    data['Eval Mean Returns'] = returns.mean(axis=0)\n",
    "    data['Eval Std Returns'] = returns.std(axis=0) / np.sqrt(n_trials)\n",
    "    data['Eval Seed Returns'] = returns\n",
    "    return data\n",
    "            \n",
    "\n",
    "def process_baseline(data):\n",
    "    out = {}\n",
    "    out['Eval Mean Returns'] = data[\"evaluation/Returns Mean\"]\n",
    "    out['Eval ndata'] = data['exploration/num steps total']\n",
    "    out['Eval Std Returns'] = data['evaluation/Returns Std']\n",
    "    return out\n",
    "\n",
    "\n",
    "def process_baseline_seeds(path):\n",
    "    if (path / f\"seed_0\" / \"info.pkl\").exists():\n",
    "        return process_bac_seeds(path)\n",
    "    data = {}\n",
    "    returns = []\n",
    "    for i in range(5):\n",
    "        seed_path = path / f\"seed_{i}\" / \"progress.csv\"\n",
    "        if not seed_path.exists():\n",
    "            continue\n",
    "        data_res = pd.read_csv(seed_path)\n",
    "        returns.append(data_res[\"evaluation/Returns Mean\"])\n",
    "        if i == 0:\n",
    "            data['Eval ndata'] = data_res['exploration/num steps total']\n",
    "    max_return_length = max([len(ret) for ret in returns])\n",
    "    returns = [ret for ret in returns if len(ret) == max_return_length]\n",
    "    if len(returns) == 0:\n",
    "        return {}\n",
    "    returns = np.vstack(returns)\n",
    "    \n",
    "    data['Eval Mean Returns'] = returns.mean(axis=0)\n",
    "    data['Eval Std Returns'] = returns.std(axis=0) / np.sqrt(returns.shape[0])\n",
    "    data['Eval Seed Returns'] = returns\n",
    "    return data"
   ]
  },
  {
   "cell_type": "code",
   "execution_count": null,
   "id": "af41a274",
   "metadata": {
    "scrolled": true
   },
   "outputs": [],
   "source": []
  },
  {
   "cell_type": "code",
   "execution_count": 54,
   "id": "bfba23d1",
   "metadata": {},
   "outputs": [
    {
     "name": "stdout",
     "output_type": "stream",
     "text": [
      "TIP-2\n",
      "5\n",
      "found seed data for TIP-2\n",
      "TIP-4\n",
      "3\n",
      "found seed data for TIP-4\n",
      "TIP-8\n",
      "5\n",
      "found seed data for TIP-8\n",
      "TIP-10\n",
      "5\n",
      "found seed data for TIP-10\n",
      "TIP-16\n",
      "5\n",
      "found seed data for TIP-16\n"
     ]
    }
   ],
   "source": [
    "data = {}\n",
    "for key, path in paths.items():\n",
    "    print(key)\n",
    "    info_path = base_path / path / 'info.pkl'\n",
    "    if info_path.exists():\n",
    "        with info_path.open('rb') as f:\n",
    "            data[key] = process_bac(pickle.load(f))\n",
    "        continue\n",
    "    info_seed_path = base_path / path / 'seed_0'\n",
    "    if info_seed_path.exists():\n",
    "        if process_seeds:\n",
    "            data[key] = process_bac_seeds(base_path / path)\n",
    "        else:\n",
    "            info_path = info_seed_path / 'info.pkl'\n",
    "            with info_path.open('rb') as f:\n",
    "                data[key] = process_bac(pickle.load(f))\n",
    "        print(f'found seed data for {key}')\n",
    "        continue\n",
    "    baseline_exp_path = baseline_path / path / 'progress.csv'\n",
    "    if baseline_exp_path.exists():\n",
    "        data_res = pd.read_csv(baseline_exp_path)\n",
    "        reformatted_data = process_baseline(data_res)\n",
    "        data[key] = reformatted_data\n",
    "        continue\n",
    "    baseline_pkl_path = baseline_path / path / 'info.pkl'\n",
    "    if baseline_pkl_path.exists():\n",
    "        with baseline_pkl_path.open('rb') as f:\n",
    "            data[key] = process_bac(pickle.load(f))\n",
    "        continue\n",
    "    baseline_seed_path = baseline_path / path /'seed_0'\n",
    "    if baseline_seed_path.exists():\n",
    "        if True:\n",
    "            val = process_baseline_seeds(baseline_path / path)\n",
    "            if len(val) == 0:\n",
    "                continue\n",
    "            data[key] = val\n",
    "        else:\n",
    "            data[key] = process_baseline(baseline_seed_path)\n",
    "        print(f\"found seed data for {key}\")\n",
    "        continue\n",
    "    print(f\"Data for {key} not found!\")"
   ]
  },
  {
   "cell_type": "code",
   "execution_count": 55,
   "id": "402dfd18",
   "metadata": {},
   "outputs": [],
   "source": [
    "smooth_curves = True"
   ]
  },
  {
   "cell_type": "code",
   "execution_count": 56,
   "id": "bd16e2b1",
   "metadata": {},
   "outputs": [],
   "source": [
    "def smooth_data(data, window=5):\n",
    "    data['Eval Mean Returns'] = uniform_filter1d(data['Eval Mean Returns'], size=window)\n",
    "    data['Eval Std Returns'] = uniform_filter1d(data['Eval Std Returns'], size=window)\n",
    "    return data"
   ]
  },
  {
   "cell_type": "code",
   "execution_count": 57,
   "id": "ba48aa35",
   "metadata": {},
   "outputs": [],
   "source": [
    "if smooth_curves:\n",
    "    new_data = {}\n",
    "    for k, v in data.items():\n",
    "        new_data[k] = smooth_data(v)\n",
    "    data = new_data"
   ]
  },
  {
   "cell_type": "code",
   "execution_count": 58,
   "id": "5dde48c7",
   "metadata": {
    "scrolled": true
   },
   "outputs": [
    {
     "ename": "ValueError",
     "evalue": "x and y must have same first dimension, but have shapes (20,) and (21,)",
     "output_type": "error",
     "traceback": [
      "\u001b[0;31m---------------------------------------------------------------------------\u001b[0m",
      "\u001b[0;31mValueError\u001b[0m                                Traceback (most recent call last)",
      "Input \u001b[0;32mIn [58]\u001b[0m, in \u001b[0;36m<module>\u001b[0;34m\u001b[0m\n\u001b[1;32m      4\u001b[0m rstderr \u001b[38;5;241m=\u001b[39m vals[\u001b[38;5;124m\"\u001b[39m\u001b[38;5;124mEval Std Returns\u001b[39m\u001b[38;5;124m\"\u001b[39m]\n\u001b[1;32m      5\u001b[0m ndata \u001b[38;5;241m=\u001b[39m vals[\u001b[38;5;124m'\u001b[39m\u001b[38;5;124mEval ndata\u001b[39m\u001b[38;5;124m'\u001b[39m]\n\u001b[0;32m----> 6\u001b[0m \u001b[43max1\u001b[49m\u001b[38;5;241;43m.\u001b[39;49m\u001b[43mplot\u001b[49m\u001b[43m(\u001b[49m\u001b[43mndata\u001b[49m\u001b[43m,\u001b[49m\u001b[43m \u001b[49m\u001b[43mrmean\u001b[49m\u001b[43m,\u001b[49m\u001b[43m \u001b[49m\u001b[43mlabel\u001b[49m\u001b[38;5;241;43m=\u001b[39;49m\u001b[43mkey\u001b[49m\u001b[43m,\u001b[49m\u001b[43m \u001b[49m\u001b[43mzorder\u001b[49m\u001b[38;5;241;43m=\u001b[39;49m\u001b[38;5;241;43m100\u001b[39;49m\u001b[43m \u001b[49m\u001b[38;5;241;43m-\u001b[39;49m\u001b[43m \u001b[49m\u001b[43mi\u001b[49m\u001b[43m)\u001b[49m\n\u001b[1;32m      7\u001b[0m ax1\u001b[38;5;241m.\u001b[39mfill_between(ndata, rmean \u001b[38;5;241m-\u001b[39m rstderr, rmean \u001b[38;5;241m+\u001b[39m rstderr, alpha\u001b[38;5;241m=\u001b[39m\u001b[38;5;241m0.5\u001b[39m)\n\u001b[1;32m      8\u001b[0m \u001b[38;5;28;01mif\u001b[39;00m \u001b[38;5;124m'\u001b[39m\u001b[38;5;124mModel MSE\u001b[39m\u001b[38;5;124m'\u001b[39m \u001b[38;5;129;01min\u001b[39;00m vals:\n",
      "File \u001b[0;32m~/src/bayes-active-rl/venvbarl/lib/python3.8/site-packages/matplotlib/axes/_axes.py:1632\u001b[0m, in \u001b[0;36mAxes.plot\u001b[0;34m(self, scalex, scaley, data, *args, **kwargs)\u001b[0m\n\u001b[1;32m   1390\u001b[0m \u001b[38;5;124;03m\"\"\"\u001b[39;00m\n\u001b[1;32m   1391\u001b[0m \u001b[38;5;124;03mPlot y versus x as lines and/or markers.\u001b[39;00m\n\u001b[1;32m   1392\u001b[0m \n\u001b[0;32m   (...)\u001b[0m\n\u001b[1;32m   1629\u001b[0m \u001b[38;5;124;03m(``'green'``) or hex strings (``'#008000'``).\u001b[39;00m\n\u001b[1;32m   1630\u001b[0m \u001b[38;5;124;03m\"\"\"\u001b[39;00m\n\u001b[1;32m   1631\u001b[0m kwargs \u001b[38;5;241m=\u001b[39m cbook\u001b[38;5;241m.\u001b[39mnormalize_kwargs(kwargs, mlines\u001b[38;5;241m.\u001b[39mLine2D)\n\u001b[0;32m-> 1632\u001b[0m lines \u001b[38;5;241m=\u001b[39m [\u001b[38;5;241m*\u001b[39m\u001b[38;5;28mself\u001b[39m\u001b[38;5;241m.\u001b[39m_get_lines(\u001b[38;5;241m*\u001b[39margs, data\u001b[38;5;241m=\u001b[39mdata, \u001b[38;5;241m*\u001b[39m\u001b[38;5;241m*\u001b[39mkwargs)]\n\u001b[1;32m   1633\u001b[0m \u001b[38;5;28;01mfor\u001b[39;00m line \u001b[38;5;129;01min\u001b[39;00m lines:\n\u001b[1;32m   1634\u001b[0m     \u001b[38;5;28mself\u001b[39m\u001b[38;5;241m.\u001b[39madd_line(line)\n",
      "File \u001b[0;32m~/src/bayes-active-rl/venvbarl/lib/python3.8/site-packages/matplotlib/axes/_base.py:312\u001b[0m, in \u001b[0;36m_process_plot_var_args.__call__\u001b[0;34m(self, data, *args, **kwargs)\u001b[0m\n\u001b[1;32m    310\u001b[0m     this \u001b[38;5;241m+\u001b[39m\u001b[38;5;241m=\u001b[39m args[\u001b[38;5;241m0\u001b[39m],\n\u001b[1;32m    311\u001b[0m     args \u001b[38;5;241m=\u001b[39m args[\u001b[38;5;241m1\u001b[39m:]\n\u001b[0;32m--> 312\u001b[0m \u001b[38;5;28;01myield from\u001b[39;00m \u001b[38;5;28;43mself\u001b[39;49m\u001b[38;5;241;43m.\u001b[39;49m\u001b[43m_plot_args\u001b[49m\u001b[43m(\u001b[49m\u001b[43mthis\u001b[49m\u001b[43m,\u001b[49m\u001b[43m \u001b[49m\u001b[43mkwargs\u001b[49m\u001b[43m)\u001b[49m\n",
      "File \u001b[0;32m~/src/bayes-active-rl/venvbarl/lib/python3.8/site-packages/matplotlib/axes/_base.py:498\u001b[0m, in \u001b[0;36m_process_plot_var_args._plot_args\u001b[0;34m(self, tup, kwargs, return_kwargs)\u001b[0m\n\u001b[1;32m    495\u001b[0m     \u001b[38;5;28mself\u001b[39m\u001b[38;5;241m.\u001b[39maxes\u001b[38;5;241m.\u001b[39myaxis\u001b[38;5;241m.\u001b[39mupdate_units(y)\n\u001b[1;32m    497\u001b[0m \u001b[38;5;28;01mif\u001b[39;00m x\u001b[38;5;241m.\u001b[39mshape[\u001b[38;5;241m0\u001b[39m] \u001b[38;5;241m!=\u001b[39m y\u001b[38;5;241m.\u001b[39mshape[\u001b[38;5;241m0\u001b[39m]:\n\u001b[0;32m--> 498\u001b[0m     \u001b[38;5;28;01mraise\u001b[39;00m \u001b[38;5;167;01mValueError\u001b[39;00m(\u001b[38;5;124mf\u001b[39m\u001b[38;5;124m\"\u001b[39m\u001b[38;5;124mx and y must have same first dimension, but \u001b[39m\u001b[38;5;124m\"\u001b[39m\n\u001b[1;32m    499\u001b[0m                      \u001b[38;5;124mf\u001b[39m\u001b[38;5;124m\"\u001b[39m\u001b[38;5;124mhave shapes \u001b[39m\u001b[38;5;132;01m{\u001b[39;00mx\u001b[38;5;241m.\u001b[39mshape\u001b[38;5;132;01m}\u001b[39;00m\u001b[38;5;124m and \u001b[39m\u001b[38;5;132;01m{\u001b[39;00my\u001b[38;5;241m.\u001b[39mshape\u001b[38;5;132;01m}\u001b[39;00m\u001b[38;5;124m\"\u001b[39m)\n\u001b[1;32m    500\u001b[0m \u001b[38;5;28;01mif\u001b[39;00m x\u001b[38;5;241m.\u001b[39mndim \u001b[38;5;241m>\u001b[39m \u001b[38;5;241m2\u001b[39m \u001b[38;5;129;01mor\u001b[39;00m y\u001b[38;5;241m.\u001b[39mndim \u001b[38;5;241m>\u001b[39m \u001b[38;5;241m2\u001b[39m:\n\u001b[1;32m    501\u001b[0m     \u001b[38;5;28;01mraise\u001b[39;00m \u001b[38;5;167;01mValueError\u001b[39;00m(\u001b[38;5;124mf\u001b[39m\u001b[38;5;124m\"\u001b[39m\u001b[38;5;124mx and y can be no greater than 2D, but have \u001b[39m\u001b[38;5;124m\"\u001b[39m\n\u001b[1;32m    502\u001b[0m                      \u001b[38;5;124mf\u001b[39m\u001b[38;5;124m\"\u001b[39m\u001b[38;5;124mshapes \u001b[39m\u001b[38;5;132;01m{\u001b[39;00mx\u001b[38;5;241m.\u001b[39mshape\u001b[38;5;132;01m}\u001b[39;00m\u001b[38;5;124m and \u001b[39m\u001b[38;5;132;01m{\u001b[39;00my\u001b[38;5;241m.\u001b[39mshape\u001b[38;5;132;01m}\u001b[39;00m\u001b[38;5;124m\"\u001b[39m)\n",
      "\u001b[0;31mValueError\u001b[0m: x and y must have same first dimension, but have shapes (20,) and (21,)"
     ]
    },
    {
     "data": {
      "image/png": "[encoded data removed]",
      "text/plain": [
       "<Figure size 1296x540 with 4 Axes>"
      ]
     },
     "metadata": {
      "needs_background": "light"
     },
     "output_type": "display_data"
    }
   ],
   "source": [
    "fig, [ax1, ax2, ax3, ax4] = plt.subplots(1, 4, figsize=(18, 7.5))\n",
    "for i, (key, vals) in enumerate(data.items()):\n",
    "    rmean = vals[\"Eval Mean Returns\"]\n",
    "    rstderr = vals[\"Eval Std Returns\"]\n",
    "    ndata = vals['Eval ndata']\n",
    "    ax1.plot(ndata, rmean, label=key, zorder=100 - i)\n",
    "    ax1.fill_between(ndata, rmean - rstderr, rmean + rstderr, alpha=0.5)\n",
    "    if 'Model MSE' in vals:\n",
    "        mses = vals['Model MSE']\n",
    "        ax2.plot(ndata, mses, label=key)\n",
    "    elif 'Model MSE (current MPC)' in vals:\n",
    "        mses = vals['Model MSE (current MPC)']\n",
    "        ax2.plot(ndata, mses, label=key)\n",
    "    if 'Model MSE (random test set)' in vals:\n",
    "        mses = vals['Model MSE (random test set)']\n",
    "        ax3.plot(ndata, mses, label=key)\n",
    "    if 'Acquisition Function Value' in vals:\n",
    "        acqs = vals['Acquisition Function Value']\n",
    "        ax4.plot(acqs, label=key)\n",
    "    else:\n",
    "        ax4.plot([], label=key)\n",
    "\n",
    "        \n",
    "ax1.set_xlabel('Number of Queries')\n",
    "ax1.set_ylabel('Returns')\n",
    "ax1.axhline(gt_val, color='black', linestyle='--', label=r'$\\pi_T$')\n",
    "ax1.legend()\n",
    "ax2.set_xlabel('Number of Queries')\n",
    "ax2.set_ylabel('Model MSE on Current MPC')\n",
    "ax3.set_ylabel(\"MSE on Random Set\")\n",
    "ax3.set_xlabel('Number of Queries')\n",
    "ax4.set_xlabel('Number of Queries')\n",
    "ax4.set_ylabel('EIG')\n",
    "if env_name == 'Lava Path':\n",
    "    ax1.set_ylim(-1000, 0)\n",
    "ax2.set_yscale('log')\n",
    "ax3.set_yscale('log')\n",
    "ax4.set_ylim(0, 10)\n",
    "# ax1.set_xscale('log')\n",
    "\n",
    "fig.suptitle(f\"Control Performance on {env_name}\")\n"
   ]
  },
  {
   "cell_type": "code",
   "execution_count": null,
   "id": "42e9d517",
   "metadata": {
    "scrolled": true
   },
   "outputs": [],
   "source": [
    "fig, ax = plt.subplots(figsize=(12, 9))\n",
    "for i, (key, vals) in enumerate(data.items()):\n",
    "    rmean = vals[\"Eval Mean Returns\"]\n",
    "    rstderr = vals[\"Eval Std Returns\"]\n",
    "    ndata = vals['Eval ndata']\n",
    "    ax.plot(ndata, rmean, label=key, zorder=100 - i)\n",
    "    ax.fill_between(ndata, rmean - rstderr, rmean + rstderr, alpha=0.3)\n",
    "ax.set_xlabel('Environment Steps')\n",
    "ax.set_ylabel('Returns')\n",
    "ax.axhline(gt_val, color='black', linestyle='--', label=r'$\\pi_T$')\n",
    "ax.legend()\n",
    "ylim_top = (gt_val - bottom_val) * 0.25 + gt_val\n",
    "ax.set_ylim(bottom_val, ylim_top)\n",
    "# ax.set_xscale('log')\n",
    "# ax.set_yscale('log')\n",
    "# ax.set_xlim(0, 500)\n",
    "# ax.set_ylim(-10000, 0)\n",
    "\n",
    "title = f\"Control Performance on {env_name}\"\n",
    "ax.set_title(label=title, fontdict={'fontsize': 14})\n",
    "# fig.suptitle()\n",
    "plt.savefig(f'sample_complexity_{env_name}.pdf') #, bbox_inches='tight')"
   ]
  },
  {
   "cell_type": "code",
   "execution_count": null,
   "id": "57952dc0",
   "metadata": {
    "scrolled": true
   },
   "outputs": [],
   "source": [
    "fig, ax = plt.subplots(figsize=(12, 9))\n",
    "for i, (key, vals) in enumerate(data.items()):\n",
    "    rmean = vals[\"Eval Mean Returns\"]\n",
    "    rstderr = vals[\"Eval Std Returns\"]\n",
    "    ndata = vals['Eval ndata']\n",
    "    ax.plot(ndata, rmean, label=key, zorder=100 - i)\n",
    "    ax.fill_between(ndata, rmean - rstderr, rmean + rstderr, alpha=0.3)\n",
    "ax.set_xlabel('Environment Steps')\n",
    "ax.set_ylabel('Returns')\n",
    "ax.axhline(gt_val, color='black', linestyle='--', label=r'$\\pi_T$')\n",
    "# ax.legend()\n",
    "ylim_top = (gt_val - bottom_val) * 0.25 + gt_val\n",
    "ax.set_ylim(bottom_val, ylim_top)\n",
    "# ax.set_xscale('log')\n",
    "# ax.set_yscale('log')\n",
    "# ax.set_xlim(0, 500)\n",
    "# ax.set_ylim(-10000, 0)\n",
    "box = ax.get_position()\n",
    "ax.set_position([box.x0, box.y0, box.width * 0.6, box.height])\n",
    "\n",
    "# Put a legend to the right of the current axis\n",
    "ax.legend(loc='center left', bbox_to_anchor=(1, 0.5), ncol=2, fancybox=True)\n",
    "\n",
    "title = f\"Control Performance on {env_name}\"\n",
    "ax.set_title(label=title, fontdict={'fontsize': 14})\n",
    "# fig.suptitle()\n",
    "plt.savefig(f'legend_{env_name}.pdf') #, bbox_inches='tight')"
   ]
  },
  {
   "cell_type": "code",
   "execution_count": 43,
   "id": "7172ad75",
   "metadata": {},
   "outputs": [
    {
     "name": "stdout",
     "output_type": "stream",
     "text": [
      "Sample complexity of algorithms on $\\beta$ + Rotation\n",
      "TIP-2: [inf, inf, inf, inf, inf]\n",
      "TIP-4: [inf, inf, inf, inf, inf]\n",
      "TIP-8: [inf, inf, inf, inf]\n",
      "TIP-10: [inf, inf, inf, inf, inf]\n",
      "TIP-16: [inf, inf, inf]\n"
     ]
    }
   ],
   "source": [
    "print(f\"Sample complexity of algorithms on {env_name}\")\n",
    "sample_complexities = {}\n",
    "for key, vals in data.items():\n",
    "    if 'Eval Seed Returns' in vals:\n",
    "        samps = []\n",
    "        for row in vals['Eval Seed Returns']:\n",
    "            try:\n",
    "                sample_idx = np.where(row > gt_val)[0].min()\n",
    "                samps.append(vals['Eval ndata'][sample_idx])\n",
    "            except ValueError:\n",
    "                samps.append(np.inf)\n",
    "        print(f\"{key}: {sorted(samps)}\")\n",
    "        continue\n",
    "    rmean = vals[\"Eval Mean Returns\"]\n",
    "    try:\n",
    "        sample_idx = np.where(rmean > gt_val)[0].min()\n",
    "        sample_complexity = vals['Eval ndata'][sample_idx]\n",
    "    except ValueError:\n",
    "        sample_complexity = None\n",
    "    sample_complexities[key] = sample_complexity\n",
    "    print(f\"{key}: {sample_complexity}\")"
   ]
  },
  {
   "cell_type": "code",
   "execution_count": null,
   "id": "81a6ea41",
   "metadata": {},
   "outputs": [],
   "source": []
  },
  {
   "cell_type": "code",
   "execution_count": null,
   "id": "53a92b15",
   "metadata": {},
   "outputs": [],
   "source": []
  },
  {
   "cell_type": "code",
   "execution_count": null,
   "id": "258ddd7b",
   "metadata": {},
   "outputs": [],
   "source": []
  }
 ],
 "metadata": {
  "kernelspec": {
   "display_name": "venvbarl",
   "language": "python",
   "name": "venvbarl"
  },
  "language_info": {
   "codemirror_mode": {
    "name": "ipython",
    "version": 3
   },
   "file_extension": ".py",
   "mimetype": "text/x-python",
   "name": "python",
   "nbconvert_exporter": "python",
   "pygments_lexer": "ipython3",
   "version": "3.8.10"
  }
 },
 "nbformat": 4,
 "nbformat_minor": 5
}
